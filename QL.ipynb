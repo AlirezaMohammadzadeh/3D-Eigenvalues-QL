{
 "cells": [
  {
   "cell_type": "code",
   "execution_count": 1,
   "metadata": {},
   "outputs": [],
   "source": [
    "import numpy as np"
   ]
  },
  {
   "cell_type": "code",
   "execution_count": 3,
   "metadata": {},
   "outputs": [
    {
     "name": "stdout",
     "output_type": "stream",
     "text": [
      "\n",
      "Eigenvalues:\n",
      "[ 9.76320727  6.06176536  2.24647933 -0.07145196]\n"
     ]
    }
   ],
   "source": [
    "def ql_method(matrix, max_iteration=1000, tolerance=1e-6):\n",
    "    n = len(matrix)\n",
    "    A = matrix.copy()\n",
    "    iteration = 0\n",
    "    while iteration < max_iteration:\n",
    "        Q = np.eye(n)\n",
    "        L = np.eye(n)\n",
    "        for k in range(n - 1, 0, -1):\n",
    "            a = A[k-1, k-1]\n",
    "            b = A[k, k-1]\n",
    "            r = np.sqrt(a**2 + b**2)\n",
    "            c = a / r\n",
    "            s = -b / r\n",
    "\n",
    "            rotation_matrix = np.eye(n)\n",
    "            rotation_matrix[[k-1, k], [k-1, k]] = c\n",
    "            rotation_matrix[k-1, k] = s\n",
    "            rotation_matrix[k, k-1] = -s\n",
    "\n",
    "            # Update the matrix Q\n",
    "            Q = np.dot(Q, rotation_matrix)\n",
    "\n",
    "        L = np.dot(Q.T, A)\n",
    "        A = np.dot(L, Q)\n",
    "\n",
    "        if np.all(np.abs(np.tril(A, k=-1)) < tolerance):\n",
    "            break\n",
    "        iteration = iteration + 1\n",
    "    eigenvalues = np.diagonal(A)  # Extract eigenvalues\n",
    "    return eigenvalues\n",
    "\n",
    "tri_diagonal_matrix = np.array([[2, 1, 0, 0],\n",
    "                                [1, 3, 4, 0],\n",
    "                                [0, 4, 6, 2],\n",
    "                                [0, 0, 2, 7]])\n",
    "\n",
    "eigenvalues = ql_method(tri_diagonal_matrix)\n",
    "print(\"\\nEigenvalues:\")\n",
    "print(eigenvalues)\n"
   ]
  }
 ],
 "metadata": {
  "kernelspec": {
   "display_name": "Python 3 (ipykernel)",
   "language": "python",
   "name": "python3"
  },
  "language_info": {
   "codemirror_mode": {
    "name": "ipython",
    "version": 3
   },
   "file_extension": ".py",
   "mimetype": "text/x-python",
   "name": "python",
   "nbconvert_exporter": "python",
   "pygments_lexer": "ipython3",
   "version": "3.10.9"
  }
 },
 "nbformat": 4,
 "nbformat_minor": 2
}
